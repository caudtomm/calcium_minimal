{
 "cells": [
  {
   "cell_type": "code",
   "execution_count": 1,
   "id": "5dfd527a",
   "metadata": {},
   "outputs": [
    {
     "name": "stdout",
     "output_type": "stream",
     "text": [
      "['c:\\\\Users\\\\caudtomm\\\\AppData\\\\Local\\\\miniconda3\\\\envs\\\\calcium_postp\\\\python313.zip', 'c:\\\\Users\\\\caudtomm\\\\AppData\\\\Local\\\\miniconda3\\\\envs\\\\calcium_postp\\\\DLLs', 'c:\\\\Users\\\\caudtomm\\\\AppData\\\\Local\\\\miniconda3\\\\envs\\\\calcium_postp\\\\Lib', 'c:\\\\Users\\\\caudtomm\\\\AppData\\\\Local\\\\miniconda3\\\\envs\\\\calcium_postp', '', 'c:\\\\Users\\\\caudtomm\\\\AppData\\\\Local\\\\miniconda3\\\\envs\\\\calcium_postp\\\\Lib\\\\site-packages', 'c:\\\\Users\\\\caudtomm\\\\AppData\\\\Local\\\\miniconda3\\\\envs\\\\calcium_postp\\\\Lib\\\\site-packages\\\\win32', 'c:\\\\Users\\\\caudtomm\\\\AppData\\\\Local\\\\miniconda3\\\\envs\\\\calcium_postp\\\\Lib\\\\site-packages\\\\win32\\\\lib', 'c:\\\\Users\\\\caudtomm\\\\AppData\\\\Local\\\\miniconda3\\\\envs\\\\calcium_postp\\\\Lib\\\\site-packages\\\\Pythonwin']\n"
     ]
    }
   ],
   "source": [
    "import sys\n",
    "\n",
    "print(sys.path)"
   ]
  },
  {
   "cell_type": "code",
   "execution_count": null,
   "id": "686d8def",
   "metadata": {},
   "outputs": [
    {
     "name": "stdout",
     "output_type": "stream",
     "text": [
      "['#refs#', '#subsystem#', 'experiment']\n",
      "<KeysViewHDF5 ['name', 'series', 'summaryTable']>\n",
      "<HDF5 group \"/experiment\" (3 members)>\n",
      "<class 'h5py._hl.group.Group'>\n",
      "<class 'h5py._hl.group.Group'>\n"
     ]
    }
   ],
   "source": [
    "import h5py\n",
    "\n",
    "filename = 'W:/groups/scratch/gfriedri/processed-data/250129_TC_invivoCaIMG_odorexp004_005/experiment_PR_250519.mat'\n",
    "\n",
    "with h5py.File(filename, 'r') as f:\n",
    "    # List top-level keys\n",
    "    print(list(f.keys()))\n",
    "    print(f['experiment'].keys())\n",
    "    print(f['experiment'])\n",
    "    print(type(f['experiment']))\n",
    "\n",
    "    # Access a specific dataset\n",
    "    experiment = f['experiment']\n",
    "\n",
    "print(type(experiment))"
   ]
  },
  {
   "cell_type": "code",
   "execution_count": 32,
   "id": "19d299ca",
   "metadata": {},
   "outputs": [],
   "source": [
    "import h5py\n",
    "import numpy as np\n",
    "\n",
    "def decode_str(val):\n",
    "    if isinstance(val, bytes):\n",
    "        return val.decode('utf-8')\n",
    "    elif isinstance(val, np.ndarray) and val.dtype.kind in {'S', 'O'}:\n",
    "        try:\n",
    "            return np.vectorize(lambda x: x.decode('utf-8'))(val)\n",
    "        except Exception:\n",
    "            return val\n",
    "    return val\n",
    "\n",
    "def read_cell_array(refs, file):\n",
    "    return [h5py_to_dict(file[r]) if isinstance(file[r], h5py.Group) else file[r][()] for r in refs]\n",
    "\n",
    "def h5py_to_dict(obj):\n",
    "    if isinstance(obj, h5py.Dataset):\n",
    "        data = obj[()]\n",
    "        return decode_str(data)\n",
    "    elif isinstance(obj, h5py.Group):\n",
    "        out = {}\n",
    "        for key, item in obj.items():\n",
    "            if isinstance(item, h5py.Dataset):\n",
    "                if item.dtype == 'object':  # likely a cell array\n",
    "                    refs = item[()]\n",
    "                    if refs.ndim == 0:  # single ref\n",
    "                        refs = [refs.item()]\n",
    "                    else:\n",
    "                        refs = refs.flat\n",
    "                    out[key] = read_cell_array(refs, obj.file)\n",
    "                else:\n",
    "                    out[key] = decode_str(item[()])\n",
    "            elif isinstance(item, h5py.Group):\n",
    "                out[key] = h5py_to_dict(item)\n",
    "            else:\n",
    "                out[key] = None\n",
    "        return out\n",
    "    return obj\n",
    "\n",
    "# Usage\n",
    "with h5py.File(filename, 'r') as f:\n",
    "    my_struct = h5py_to_dict(f['experiment'])\n",
    "\n"
   ]
  },
  {
   "cell_type": "code",
   "execution_count": 34,
   "id": "9ba3b4f2",
   "metadata": {},
   "outputs": [
    {
     "ename": "AttributeError",
     "evalue": "'list' object has no attribute 'keys'",
     "output_type": "error",
     "traceback": [
      "\u001b[31m---------------------------------------------------------------------------\u001b[39m",
      "\u001b[31mAttributeError\u001b[39m                            Traceback (most recent call last)",
      "\u001b[36mCell\u001b[39m\u001b[36m \u001b[39m\u001b[32mIn[34]\u001b[39m\u001b[32m, line 1\u001b[39m\n\u001b[32m----> \u001b[39m\u001b[32m1\u001b[39m \u001b[38;5;28mprint\u001b[39m(\u001b[43mmy_struct\u001b[49m\u001b[43m[\u001b[49m\u001b[33;43m'\u001b[39;49m\u001b[33;43mseries\u001b[39;49m\u001b[33;43m'\u001b[39;49m\u001b[43m]\u001b[49m\u001b[43m.\u001b[49m\u001b[43mkeys\u001b[49m())\n",
      "\u001b[31mAttributeError\u001b[39m: 'list' object has no attribute 'keys'"
     ]
    }
   ],
   "source": [
    "print(my_struct['series'].keys())"
   ]
  }
 ],
 "metadata": {
  "kernelspec": {
   "display_name": "calcium_postp",
   "language": "python",
   "name": "python3"
  },
  "language_info": {
   "codemirror_mode": {
    "name": "ipython",
    "version": 3
   },
   "file_extension": ".py",
   "mimetype": "text/x-python",
   "name": "python",
   "nbconvert_exporter": "python",
   "pygments_lexer": "ipython3",
   "version": "3.13.2"
  }
 },
 "nbformat": 4,
 "nbformat_minor": 5
}
